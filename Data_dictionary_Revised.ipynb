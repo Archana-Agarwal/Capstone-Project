{
  "nbformat": 4,
  "nbformat_minor": 0,
  "metadata": {
    "colab": {
      "name": "Data dictionary - Revised.ipynb",
      "provenance": [],
      "authorship_tag": "ABX9TyOJXgcZyQwKTMLbmMXUjKPj",
      "include_colab_link": true
    },
    "kernelspec": {
      "name": "python3",
      "display_name": "Python 3"
    }
  },
  "cells": [
    {
      "cell_type": "markdown",
      "metadata": {
        "id": "view-in-github",
        "colab_type": "text"
      },
      "source": [
        "<a href=\"https://colab.research.google.com/github/Archana-Agarwal/Capstone-Project/blob/master/Data_dictionary_Revised.ipynb\" target=\"_parent\"><img src=\"https://colab.research.google.com/assets/colab-badge.svg\" alt=\"Open In Colab\"/></a>"
      ]
    },
    {
      "cell_type": "markdown",
      "metadata": {
        "id": "hZedmBtdvVx1",
        "colab_type": "text"
      },
      "source": [
        "**DATA DICTIONARY**"
      ]
    },
    {
      "cell_type": "markdown",
      "metadata": {
        "id": "9lQk4FWmvX30",
        "colab_type": "text"
      },
      "source": [
        "**FILE NAME - CUSTOMER **\n",
        "\n",
        "*   AccountNum: Phone number of the customer without the area zip code.\n",
        "*   Name: Name of the customer\n",
        "*   Address: Address of the customer\n",
        "*   City: City of the customer\n",
        "*   State: State in which the customer is located\n",
        "*   Zip: Zip code of the customer location\n",
        "*   VIP: Discount % offered to a VIP customer\n",
        "*   VIPDate: Date on which te discount coupon expires\n",
        "*   RouteNo: Route number on which the pick-off service is scheduled\n",
        "*   Routenr: Route number of the customer location\n",
        "*   First_date: date on which first time the garment came in for dry cleaning services\n",
        "*   Last_date: date on which last time the garment came in for dry cleaning services\n",
        "*   Last_paid: date on which the last payment was receievd\n",
        "*   Last_payment: dollar amount of the last payment received\n",
        "*   Lotal_garm: total garments processed for a given customer this year.\n",
        "*   Total_ytd: total business for the current year.\n",
        "*   Total_last: total revenue generated from a customer for the last year.\n",
        "*   Credit: \n",
        "*   Total_credit:\n",
        "*   Account_balance:\n",
        "*   Account_30:\n",
        "*   Account_60:\n",
        "*   Account_90:\n",
        "*   Group: Code provided for high value customers for special attention\n",
        "*   Price_group: Pricing segmentation based on customer location/other attributes\n",
        "*   Show_message: If there are any belongings left in the garment and customer drops a message for checking those\n",
        "*   Check status: \n",
        "*   Starch: Kind of starch applied on a garment (Ex: Light, Heavy)\n",
        "*   DeliveryNo: The first stop of each different route (Ex: route - 2, has 100 as first stop) \n",
        "*   Dont Call: Customers who dont want calls for promotion offers.\n",
        "*   Not Active:\n",
        "*   TotalLauYTD: total revenue generated from laundry business for this year.\n",
        "*   TotalLauLY: total revenue generated from laundry business for last year.\n",
        "*   TotalLauPcs: total laundry pieces for YTD.\n",
        "*   TotalOtherYtd: total revenue generated from 'Other' business for this year.\n",
        "*   TotalOtherLY: total revenue generated from 'Other' business for last year.\n",
        "*   TotalOtherPcs: count of total garment received for 'Other' purpose YTD.\n",
        "*   Discount: Total amount of discount received by customer.\n",
        "\n",
        "\n",
        "**FILE - GARMENT LABEL**\n",
        "\n",
        "*   GarmentNo: Count of different garments which customer has sent for cleaning.\n",
        "*   Count: Number of times the garment has come for dry cleaning services\n",
        "*   Type: Type of garment received for dry cleaning\n",
        "*   Upcharge1: Type of fibre of the garment\n",
        "*   Starch: Kind of starch applied on a garment (Ex: Light, Heavy)\n",
        "\n",
        "\n",
        "**FILE - ACCOUNT**\n",
        "\n",
        "*   Amount: Amount of the the particular invoice.\n",
        "*   Payment: Payment made against the invoice.\n",
        "*   Balance: Carry forward balance (total amount due)\n",
        "*   Type: Type of business. D - Dry Cleaning, A - Alterations, L - Laundry, M - Misc, O - Other\n",
        "*   Discount: Discount amount.\n",
        "\n",
        "\n",
        "\n",
        "\n",
        "\n",
        "\n",
        "\n",
        "\n",
        "\n",
        "\n",
        "\n",
        "\n",
        "\n",
        "\n",
        "\n",
        "\n",
        "\n",
        "\n",
        "\n",
        "\n",
        "\n",
        "\n",
        "\n",
        "\n",
        "\n",
        "\n",
        "\n",
        "\n",
        "\n",
        "\n",
        "\n",
        "\n",
        "\n",
        "\n",
        "\n",
        "\n",
        "\n",
        "\n",
        "\n"
      ]
    },
    {
      "cell_type": "markdown",
      "metadata": {
        "id": "EXv0snm5vnl0",
        "colab_type": "text"
      },
      "source": [
        ""
      ]
    }
  ]
}