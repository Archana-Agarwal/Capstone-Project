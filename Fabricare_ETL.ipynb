{
 "cells": [
  {
   "cell_type": "markdown",
   "metadata": {},
   "source": [
    "# Farbricare ETL"
   ]
  },
  {
   "cell_type": "markdown",
   "metadata": {},
   "source": [
    "## Step 1: Load SQL and create database"
   ]
  },
  {
   "cell_type": "code",
   "execution_count": 1,
   "metadata": {},
   "outputs": [],
   "source": [
    "%load_ext sql\n",
    "import pandas as pd\n",
    "import sqlite3"
   ]
  },
  {
   "cell_type": "code",
   "execution_count": 2,
   "metadata": {},
   "outputs": [],
   "source": [
    "%sql sqlite:///FabricareData.db\n",
    "conn = sqlite3.connect('FabricareData.db')"
   ]
  },
  {
   "cell_type": "markdown",
   "metadata": {},
   "source": [
    "## Step 2: Create tables as designed in ERD"
   ]
  },
  {
   "cell_type": "code",
   "execution_count": 3,
   "metadata": {},
   "outputs": [
    {
     "name": "stdout",
     "output_type": "stream",
     "text": [
      " * sqlite:///FabricareData.db\n",
      "Done.\n",
      "Done.\n"
     ]
    },
    {
     "data": {
      "text/plain": [
       "[]"
      ]
     },
     "execution_count": 3,
     "metadata": {},
     "output_type": "execute_result"
    }
   ],
   "source": [
    "%%sql\n",
    "DROP TABLE IF EXISTS ACCOUNT;\n",
    "CREATE TABLE ACCOUNT (\n",
    "    Account_id INTEGER PRIMARY KEY,\n",
    "    Item INTEGER NOT NULL,\n",
    "    Date TEXT NOT NULL,\n",
    "    Invoice TEXT NOT NULL,\n",
    "    MasterAccountNo INTEGER NOT NULL,\n",
    "    AccountNo INTEGER NOT NULL,\n",
    "    Amount REAL,\n",
    "    Payment REAL,\n",
    "    Balance REAL,\n",
    "    Type TEXT    \n",
    ");"
   ]
  },
  {
   "cell_type": "code",
   "execution_count": 4,
   "metadata": {},
   "outputs": [
    {
     "name": "stdout",
     "output_type": "stream",
     "text": [
      " * sqlite:///FabricareData.db\n",
      "Done.\n",
      "Done.\n"
     ]
    },
    {
     "data": {
      "text/plain": [
       "[]"
      ]
     },
     "execution_count": 4,
     "metadata": {},
     "output_type": "execute_result"
    }
   ],
   "source": [
    "%%sql\n",
    "DROP TABLE IF EXISTS GARMENTLABEL;\n",
    "CREATE TABLE GARMENTLABEL (\n",
    "    GarmentLabel_id INTEGER PRIMARY KEY,\n",
    "    Item INTEGER NOT NULL,\n",
    "    Barcode INTEGER NOT NULL,\n",
    "    AccountNo INTEGER,\n",
    "    FirstDate TEXT NOT NULL,\n",
    "    LastDate TEXT NOT NULL,\n",
    "    Count INTEGER NOT NULL,\n",
    "    GarmentType INTEGER NOT NULL,\n",
    "    BrandName TEXT NOT NULL,\n",
    "    Color1 INTEGER,\n",
    "    Upcharge1 INTEGER,\n",
    "    Color2 INTEGER,\n",
    "    UpCharge2 INTEGER,\n",
    "    Color3 INTEGER,\n",
    "    Upcharge3 INTEGER,\n",
    "    Color4 INTEGER,\n",
    "    Upcharge4 INTEGER,\n",
    "    Date_of_Revenue TEXT,\n",
    "    LastPrice REAL\n",
    ");"
   ]
  },
  {
   "cell_type": "code",
   "execution_count": 5,
   "metadata": {},
   "outputs": [
    {
     "name": "stdout",
     "output_type": "stream",
     "text": [
      " * sqlite:///FabricareData.db\n",
      "Done.\n",
      "Done.\n"
     ]
    },
    {
     "data": {
      "text/plain": [
       "[]"
      ]
     },
     "execution_count": 5,
     "metadata": {},
     "output_type": "execute_result"
    }
   ],
   "source": [
    "%%sql\n",
    "\n",
    "DROP TABLE IF EXISTS CUSTOMER;\n",
    "CREATE TABLE CUSTOMER (\n",
    "    Customer_id INTEGER PRIMARY KEY,\n",
    "    Item INTEGER NOT NULL,\n",
    "    AccountNo INTEGER NOT NULL,\n",
    "    Name TEXT NOT NULL,\n",
    "    Address TEXT,\n",
    "    City TEXT,\n",
    "    State TEXT,\n",
    "    Zip INTEGER,\n",
    "    RouteNo TEXT,\n",
    "    First_date TEXT NOT NULL,\n",
    "    Last_date TEXT NOT NULL,\n",
    "    Total_garment INTEGER,\n",
    "    Total_ytd REAL,\n",
    "    Total_last REAL,\n",
    "    Credit REAL,\n",
    "    Total_cred REAL,\n",
    "    Wcredit REAL,\n",
    "    Total_wcre REAL,\n",
    "    Account INTEGER,\n",
    "    Account_balance REAL,\n",
    "    Account_30 REAL,\n",
    "    Account_60 REAL,\n",
    "    Account_90 REAL,\n",
    "    Last_paid_date TEXT,\n",
    "    Last_payment REAL,\n",
    "    Pricegroup INTEGER NOT NULL,\n",
    "    Phone INTEGER NOT NULL,\n",
    "    TotalLauYtd REAL,\n",
    "    TotalLauLY REAL,\n",
    "    TotalLauPcs INTEGER,\n",
    "    TotalOtherYtd REAL,\n",
    "    TotalOtherLY REAL,\n",
    "    TotalOtherPcs INTEGER\n",
    ");"
   ]
  },
  {
   "cell_type": "code",
   "execution_count": 6,
   "metadata": {},
   "outputs": [
    {
     "name": "stdout",
     "output_type": "stream",
     "text": [
      " * sqlite:///FabricareData.db\n",
      "Done.\n",
      "Done.\n"
     ]
    },
    {
     "data": {
      "text/plain": [
       "[]"
      ]
     },
     "execution_count": 6,
     "metadata": {},
     "output_type": "execute_result"
    }
   ],
   "source": [
    "%%sql\n",
    "\n",
    "DROP TABLE IF EXISTS ROUTE;\n",
    "CREATE TABLE ROUTE (\n",
    "    Route_id INTEGER PRIMARY KEY,\n",
    "    Item INTEGER NOT NULL,\n",
    "    RouteNo TEXT NOT NULL,\n",
    "    RouteName TEXT NOT NULL,\n",
    "    Rmon INTEGER,\n",
    "    Rtue INTEGER,\n",
    "    Rwed INTEGER,\n",
    "    Rthu INTEGER,\n",
    "    Rfri INTEGER,\n",
    "    Rsat INTEGER,\n",
    "    Rsun INTEGER,\n",
    "    PriceGroup INTEGER NOT NULL\n",
    ");"
   ]
  },
  {
   "cell_type": "code",
   "execution_count": 23,
   "metadata": {},
   "outputs": [
    {
     "name": "stdout",
     "output_type": "stream",
     "text": [
      " * sqlite:///FabricareData.db\n",
      "Done.\n",
      "Done.\n"
     ]
    },
    {
     "data": {
      "text/plain": [
       "[]"
      ]
     },
     "execution_count": 23,
     "metadata": {},
     "output_type": "execute_result"
    }
   ],
   "source": [
    "%%sql\n",
    "\n",
    "DROP TABLE IF EXISTS ROUTE_PICKED;\n",
    "CREATE TABLE ROUTE_PICKED (\n",
    "    RoutePicked_id INTEGER PRIMARY KEY,\n",
    "    Item INTEGER NOT NULL,\n",
    "    AccountNo INTEGER NOT NULL,\n",
    "    Picked INTEGER,\n",
    "    PickDate TEXT NOT NULL,\n",
    "    PickTime TEXT NOT NULL,\n",
    "    PickEmp TEXT ,\n",
    "    PickEmpNo INTEGER,\n",
    "    StopNo INTEGER ,\n",
    "    RouteNo \n",
    ");"
   ]
  },
  {
   "cell_type": "markdown",
   "metadata": {},
   "source": [
    "## Step 3: Import CSV files"
   ]
  },
  {
   "cell_type": "code",
   "execution_count": 8,
   "metadata": {},
   "outputs": [],
   "source": [
    "# importing GarmLabel csv\n",
    "data = pd.read_csv('./Source Data/GarmLabel_cleaned.csv')   # path to directory\n",
    "data.to_sql('Import_GarmLabel_cleaned',conn,if_exists='append',index=False) # converting to sql & unique"
   ]
  },
  {
   "cell_type": "code",
   "execution_count": 9,
   "metadata": {},
   "outputs": [],
   "source": [
    "# importing Account csv\n",
    "data = pd.read_csv('./Source Data/Account.csv')   # path to directory\n",
    "data.to_sql('Import_Account',conn,if_exists='append',index=False) # converting to sql & unique"
   ]
  },
  {
   "cell_type": "code",
   "execution_count": 10,
   "metadata": {},
   "outputs": [],
   "source": [
    "# importing Customer csv\n",
    "data = pd.read_csv('./Source Data/Customer.csv')   # path to directory\n",
    "data.to_sql('Import_Customer',conn,if_exists='append',index=False) # converting to sql & unique"
   ]
  },
  {
   "cell_type": "code",
   "execution_count": 11,
   "metadata": {},
   "outputs": [
    {
     "name": "stderr",
     "output_type": "stream",
     "text": [
      "/opt/tljh/user/lib/python3.6/site-packages/pandas/core/generic.py:2712: UserWarning: The spaces in these column names will not be changed. In pandas versions < 0.14, spaces were converted to underscores.\n",
      "  method=method,\n"
     ]
    }
   ],
   "source": [
    "# importing Route csv\n",
    "data = pd.read_csv('./Source Data/Route.csv')   # path to directory\n",
    "data.to_sql('Import_Route',conn,if_exists='append',index=False) # converting to sql & unique"
   ]
  },
  {
   "cell_type": "code",
   "execution_count": 12,
   "metadata": {},
   "outputs": [],
   "source": [
    "# importing Route csv\n",
    "data = pd.read_csv('./Source Data/RoutePicked.csv')   # path to directory\n",
    "data.to_sql('Import_RoutePicked',conn,if_exists='append',index=False) # converting to sql & unique"
   ]
  },
  {
   "cell_type": "code",
   "execution_count": 13,
   "metadata": {},
   "outputs": [
    {
     "name": "stdout",
     "output_type": "stream",
     "text": [
      " * sqlite:///FabricareData.db\n",
      "Done.\n"
     ]
    },
    {
     "data": {
      "text/html": [
       "<table>\n",
       "    <tr>\n",
       "        <th>Count</th>\n",
       "        <th>DistinctCount</th>\n",
       "    </tr>\n",
       "    <tr>\n",
       "        <td>485588</td>\n",
       "        <td>485588</td>\n",
       "    </tr>\n",
       "</table>"
      ],
      "text/plain": [
       "[(485588, 485588)]"
      ]
     },
     "execution_count": 13,
     "metadata": {},
     "output_type": "execute_result"
    }
   ],
   "source": [
    "%%sql\n",
    "--check for duplication in GarmLabel\n",
    "SELECT \n",
    "    (SELECT Count(*) FROM IMPORT_GarmLabel_cleaned) as 'Count',\n",
    "    (SELECT Count(*) FROM (SELECT DISTINCT * FROM IMPORT_GarmLabel_cleaned)) as 'DistinctCount';"
   ]
  },
  {
   "cell_type": "code",
   "execution_count": 14,
   "metadata": {},
   "outputs": [
    {
     "name": "stdout",
     "output_type": "stream",
     "text": [
      " * sqlite:///FabricareData.db\n",
      "Done.\n"
     ]
    },
    {
     "data": {
      "text/html": [
       "<table>\n",
       "    <tr>\n",
       "        <th>Count</th>\n",
       "        <th>DistinctCount</th>\n",
       "    </tr>\n",
       "    <tr>\n",
       "        <td>694648</td>\n",
       "        <td>694648</td>\n",
       "    </tr>\n",
       "</table>"
      ],
      "text/plain": [
       "[(694648, 694648)]"
      ]
     },
     "execution_count": 14,
     "metadata": {},
     "output_type": "execute_result"
    }
   ],
   "source": [
    "%%sql\n",
    "-- check for duplication in Account\n",
    "\n",
    "SELECT \n",
    "    (SELECT Count(*) FROM IMPORT_Account) as 'Count',\n",
    "    (SELECT Count(*) FROM (SELECT DISTINCT * FROM IMPORT_Account)) as 'DistinctCount';"
   ]
  },
  {
   "cell_type": "code",
   "execution_count": 15,
   "metadata": {},
   "outputs": [
    {
     "name": "stdout",
     "output_type": "stream",
     "text": [
      " * sqlite:///FabricareData.db\n",
      "Done.\n"
     ]
    },
    {
     "data": {
      "text/html": [
       "<table>\n",
       "    <tr>\n",
       "        <th>Count</th>\n",
       "        <th>DistinctCount</th>\n",
       "    </tr>\n",
       "    <tr>\n",
       "        <td>10337</td>\n",
       "        <td>10337</td>\n",
       "    </tr>\n",
       "</table>"
      ],
      "text/plain": [
       "[(10337, 10337)]"
      ]
     },
     "execution_count": 15,
     "metadata": {},
     "output_type": "execute_result"
    }
   ],
   "source": [
    "%%sql\n",
    "--check for duplication in Customer\n",
    "\n",
    "SELECT \n",
    "    (SELECT Count(*) FROM IMPORT_Customer) as 'Count',\n",
    "    (SELECT Count(*) FROM (SELECT DISTINCT * FROM IMPORT_Customer)) as 'DistinctCount';"
   ]
  },
  {
   "cell_type": "code",
   "execution_count": 16,
   "metadata": {},
   "outputs": [
    {
     "name": "stdout",
     "output_type": "stream",
     "text": [
      " * sqlite:///FabricareData.db\n",
      "Done.\n"
     ]
    },
    {
     "data": {
      "text/html": [
       "<table>\n",
       "    <tr>\n",
       "        <th>Count</th>\n",
       "        <th>DistinctCount</th>\n",
       "    </tr>\n",
       "    <tr>\n",
       "        <td>24</td>\n",
       "        <td>24</td>\n",
       "    </tr>\n",
       "</table>"
      ],
      "text/plain": [
       "[(24, 24)]"
      ]
     },
     "execution_count": 16,
     "metadata": {},
     "output_type": "execute_result"
    }
   ],
   "source": [
    "%%sql\n",
    "--check for duplication in Route\n",
    "\n",
    "SELECT \n",
    "    (SELECT Count(*) FROM IMPORT_Route) as 'Count',\n",
    "    (SELECT Count(*) FROM (SELECT DISTINCT * FROM IMPORT_Route)) as 'DistinctCount';"
   ]
  },
  {
   "cell_type": "code",
   "execution_count": 17,
   "metadata": {},
   "outputs": [
    {
     "name": "stdout",
     "output_type": "stream",
     "text": [
      " * sqlite:///FabricareData.db\n",
      "Done.\n"
     ]
    },
    {
     "data": {
      "text/html": [
       "<table>\n",
       "    <tr>\n",
       "        <th>Count</th>\n",
       "        <th>DistinctCount</th>\n",
       "    </tr>\n",
       "    <tr>\n",
       "        <td>433566</td>\n",
       "        <td>433566</td>\n",
       "    </tr>\n",
       "</table>"
      ],
      "text/plain": [
       "[(433566, 433566)]"
      ]
     },
     "execution_count": 17,
     "metadata": {},
     "output_type": "execute_result"
    }
   ],
   "source": [
    "%%sql\n",
    "--check for duplication in RoutePicked\n",
    "\n",
    "SELECT \n",
    "    (SELECT Count(*) FROM IMPORT_RoutePicked) as 'Count',\n",
    "    (SELECT Count(*) FROM (SELECT DISTINCT * FROM IMPORT_RoutePicked)) as 'DistinctCount';"
   ]
  },
  {
   "cell_type": "markdown",
   "metadata": {},
   "source": [
    "## Step 4: Populating the Tables"
   ]
  },
  {
   "cell_type": "code",
   "execution_count": 18,
   "metadata": {},
   "outputs": [
    {
     "name": "stdout",
     "output_type": "stream",
     "text": [
      " * sqlite:///FabricareData.db\n",
      "0 rows affected.\n",
      "694648 rows affected.\n",
      "Done.\n"
     ]
    },
    {
     "data": {
      "text/html": [
       "<table>\n",
       "    <tr>\n",
       "        <th>Account_id</th>\n",
       "        <th>Item</th>\n",
       "        <th>Date</th>\n",
       "        <th>Invoice</th>\n",
       "        <th>MasterAccountNo</th>\n",
       "        <th>AccountNo</th>\n",
       "        <th>Amount</th>\n",
       "        <th>Payment</th>\n",
       "        <th>Balance</th>\n",
       "        <th>Type</th>\n",
       "    </tr>\n",
       "    <tr>\n",
       "        <td>1</td>\n",
       "        <td>220996</td>\n",
       "        <td>1/1/2015</td>\n",
       "        <td>Invoice # A2984409</td>\n",
       "        <td>8691876</td>\n",
       "        <td>8691876</td>\n",
       "        <td>27.75</td>\n",
       "        <td>0.0</td>\n",
       "        <td>78.29</td>\n",
       "        <td>D</td>\n",
       "    </tr>\n",
       "    <tr>\n",
       "        <td>2</td>\n",
       "        <td>304049</td>\n",
       "        <td>1/1/2015</td>\n",
       "        <td>Invoice # D2983364</td>\n",
       "        <td>2760597</td>\n",
       "        <td>2760597</td>\n",
       "        <td>42.81</td>\n",
       "        <td>0.0</td>\n",
       "        <td>42.81</td>\n",
       "        <td>D</td>\n",
       "    </tr>\n",
       "    <tr>\n",
       "        <td>3</td>\n",
       "        <td>304173</td>\n",
       "        <td>1/1/2015</td>\n",
       "        <td>Invoice # D2983371</td>\n",
       "        <td>2499686</td>\n",
       "        <td>2499686</td>\n",
       "        <td>42.18</td>\n",
       "        <td>0.0</td>\n",
       "        <td>59.04</td>\n",
       "        <td>D</td>\n",
       "    </tr>\n",
       "    <tr>\n",
       "        <td>4</td>\n",
       "        <td>304212</td>\n",
       "        <td>1/1/2015</td>\n",
       "        <td>Invoice # D2983372</td>\n",
       "        <td>2760597</td>\n",
       "        <td>2760597</td>\n",
       "        <td>67.38</td>\n",
       "        <td>0.0</td>\n",
       "        <td>110.19</td>\n",
       "        <td>D</td>\n",
       "    </tr>\n",
       "    <tr>\n",
       "        <td>5</td>\n",
       "        <td>304394</td>\n",
       "        <td>1/1/2015</td>\n",
       "        <td>Invoice # D2983382</td>\n",
       "        <td>5699323</td>\n",
       "        <td>5699323</td>\n",
       "        <td>8.4</td>\n",
       "        <td>0.0</td>\n",
       "        <td>8.4</td>\n",
       "        <td>L</td>\n",
       "    </tr>\n",
       "</table>"
      ],
      "text/plain": [
       "[(1, 220996, '1/1/2015', 'Invoice # A2984409', 8691876, 8691876, 27.75, 0.0, 78.29, 'D'),\n",
       " (2, 304049, '1/1/2015', 'Invoice # D2983364', 2760597, 2760597, 42.81, 0.0, 42.81, 'D'),\n",
       " (3, 304173, '1/1/2015', 'Invoice # D2983371', 2499686, 2499686, 42.18, 0.0, 59.04, 'D'),\n",
       " (4, 304212, '1/1/2015', 'Invoice # D2983372', 2760597, 2760597, 67.38, 0.0, 110.19, 'D'),\n",
       " (5, 304394, '1/1/2015', 'Invoice # D2983382', 5699323, 5699323, 8.4, 0.0, 8.4, 'L')]"
      ]
     },
     "execution_count": 18,
     "metadata": {},
     "output_type": "execute_result"
    }
   ],
   "source": [
    "%%sql\n",
    "DELETE FROM ACCOUNT;\n",
    "INSERT INTO ACCOUNT(Item,Date,Invoice,MasterAccountNo,AccountNo,Amount,Payment,Balance,Type)\n",
    "    SELECT DISTINCT Item,Date,Invoice,MasterAccountNo,AccountNo,Amount,Payment,Balance,Type\n",
    "    FROM Import_Account;\n",
    "SELECT * FROM ACCOUNT LIMIT 5;"
   ]
  },
  {
   "cell_type": "code",
   "execution_count": 19,
   "metadata": {},
   "outputs": [
    {
     "name": "stdout",
     "output_type": "stream",
     "text": [
      " * sqlite:///FabricareData.db\n",
      "0 rows affected.\n",
      "485588 rows affected.\n",
      "Done.\n"
     ]
    },
    {
     "data": {
      "text/html": [
       "<table>\n",
       "    <tr>\n",
       "        <th>GarmentLabel_id</th>\n",
       "        <th>Item</th>\n",
       "        <th>Barcode</th>\n",
       "        <th>AccountNo</th>\n",
       "        <th>FirstDate</th>\n",
       "        <th>LastDate</th>\n",
       "        <th>Count</th>\n",
       "        <th>GarmentType</th>\n",
       "        <th>BrandName</th>\n",
       "        <th>Color1</th>\n",
       "        <th>Upcharge1</th>\n",
       "        <th>Color2</th>\n",
       "        <th>UpCharge2</th>\n",
       "        <th>Color3</th>\n",
       "        <th>Upcharge3</th>\n",
       "        <th>Color4</th>\n",
       "        <th>Upcharge4</th>\n",
       "        <th>Date_of_Revenue</th>\n",
       "        <th>LastPrice</th>\n",
       "    </tr>\n",
       "    <tr>\n",
       "        <td>1</td>\n",
       "        <td>40718</td>\n",
       "        <td>99493174</td>\n",
       "        <td>9726973</td>\n",
       "        <td>1/10/2006</td>\n",
       "        <td>10/9/2015</td>\n",
       "        <td>113</td>\n",
       "        <td>507</td>\n",
       "        <td>Kirkland</td>\n",
       "        <td>1191</td>\n",
       "        <td>0</td>\n",
       "        <td>1181</td>\n",
       "        <td>0</td>\n",
       "        <td>1205</td>\n",
       "        <td>0</td>\n",
       "        <td>0</td>\n",
       "        <td>0</td>\n",
       "        <td>10/9/2015</td>\n",
       "        <td>3.3</td>\n",
       "    </tr>\n",
       "    <tr>\n",
       "        <td>2</td>\n",
       "        <td>40643</td>\n",
       "        <td>3579294031</td>\n",
       "        <td>3579294</td>\n",
       "        <td>1/10/2006</td>\n",
       "        <td>10/31/2015</td>\n",
       "        <td>3</td>\n",
       "        <td>501</td>\n",
       "        <td>Old Navy</td>\n",
       "        <td>1190</td>\n",
       "        <td>0</td>\n",
       "        <td>0</td>\n",
       "        <td>0</td>\n",
       "        <td>0</td>\n",
       "        <td>0</td>\n",
       "        <td>0</td>\n",
       "        <td>0</td>\n",
       "        <td>10/31/2015</td>\n",
       "        <td>2.9</td>\n",
       "    </tr>\n",
       "    <tr>\n",
       "        <td>3</td>\n",
       "        <td>40773</td>\n",
       "        <td>6559976073</td>\n",
       "        <td>6559976</td>\n",
       "        <td>1/10/2006</td>\n",
       "        <td>1/5/2016</td>\n",
       "        <td>10</td>\n",
       "        <td>501</td>\n",
       "        <td>Brooks Brothers</td>\n",
       "        <td>1181</td>\n",
       "        <td>0</td>\n",
       "        <td>0</td>\n",
       "        <td>0</td>\n",
       "        <td>0</td>\n",
       "        <td>0</td>\n",
       "        <td>0</td>\n",
       "        <td>0</td>\n",
       "        <td>1/5/2016</td>\n",
       "        <td>2.95</td>\n",
       "    </tr>\n",
       "    <tr>\n",
       "        <td>4</td>\n",
       "        <td>40772</td>\n",
       "        <td>6551576025</td>\n",
       "        <td>6551576</td>\n",
       "        <td>1/10/2006</td>\n",
       "        <td>3/3/2017</td>\n",
       "        <td>8</td>\n",
       "        <td>507</td>\n",
       "        <td>Brooks Brothers</td>\n",
       "        <td>1181</td>\n",
       "        <td>0</td>\n",
       "        <td>0</td>\n",
       "        <td>0</td>\n",
       "        <td>0</td>\n",
       "        <td>0</td>\n",
       "        <td>0</td>\n",
       "        <td>0</td>\n",
       "        <td>3/3/2017</td>\n",
       "        <td>3.65</td>\n",
       "    </tr>\n",
       "    <tr>\n",
       "        <td>5</td>\n",
       "        <td>40794</td>\n",
       "        <td>9679220055</td>\n",
       "        <td>9679220</td>\n",
       "        <td>1/10/2006</td>\n",
       "        <td>4/17/2018</td>\n",
       "        <td>6</td>\n",
       "        <td>501</td>\n",
       "        <td>Brooks Brothers</td>\n",
       "        <td>1189</td>\n",
       "        <td>0</td>\n",
       "        <td>1206</td>\n",
       "        <td>0</td>\n",
       "        <td>0</td>\n",
       "        <td>0</td>\n",
       "        <td>0</td>\n",
       "        <td>0</td>\n",
       "        <td>4/17/2018</td>\n",
       "        <td>3.05</td>\n",
       "    </tr>\n",
       "</table>"
      ],
      "text/plain": [
       "[(1, 40718, 99493174, 9726973, '1/10/2006', '10/9/2015', 113, 507, 'Kirkland', 1191, 0, 1181, 0, 1205, 0, 0, 0, '10/9/2015', 3.3),\n",
       " (2, 40643, 3579294031, 3579294, '1/10/2006', '10/31/2015', 3, 501, 'Old Navy', 1190, 0, 0, 0, 0, 0, 0, 0, '10/31/2015', 2.9),\n",
       " (3, 40773, 6559976073, 6559976, '1/10/2006', '1/5/2016', 10, 501, 'Brooks Brothers', 1181, 0, 0, 0, 0, 0, 0, 0, '1/5/2016', 2.95),\n",
       " (4, 40772, 6551576025, 6551576, '1/10/2006', '3/3/2017', 8, 507, 'Brooks Brothers', 1181, 0, 0, 0, 0, 0, 0, 0, '3/3/2017', 3.65),\n",
       " (5, 40794, 9679220055, 9679220, '1/10/2006', '4/17/2018', 6, 501, 'Brooks Brothers', 1189, 0, 1206, 0, 0, 0, 0, 0, '4/17/2018', 3.05)]"
      ]
     },
     "execution_count": 19,
     "metadata": {},
     "output_type": "execute_result"
    }
   ],
   "source": [
    "%%sql\n",
    "DELETE FROM GARMENTLABEL;\n",
    "INSERT INTO GARMENTLABEL(Item,Barcode,AccountNo,FirstDate,LastDate,Count,GarmentType,BrandName,Color1,Upcharge1,Color2,UpCharge2,Color3,Upcharge3,Color4,Upcharge4,Date_of_Revenue,LastPrice)\n",
    "    SELECT DISTINCT Item,Barcode,AccountNo,FirstDate,LastDate,Count,GarmentType,BrandName,Color1,Upcharge1,Color2,UpCharge2,Color3,Upcharge3,Color4,Upcharge4,Date_of_Revenue,LastPrice\n",
    "    FROM Import_GarmLabel_cleaned\n",
    "    ORDER BY FirstDate;\n",
    "SELECT * FROM GARMENTLABEL LIMIT 5;"
   ]
  },
  {
   "cell_type": "code",
   "execution_count": 20,
   "metadata": {},
   "outputs": [
    {
     "name": "stdout",
     "output_type": "stream",
     "text": [
      " * sqlite:///FabricareData.db\n",
      "0 rows affected.\n",
      "10337 rows affected.\n",
      "Done.\n"
     ]
    },
    {
     "data": {
      "text/html": [
       "<table>\n",
       "    <tr>\n",
       "        <th>Customer_id</th>\n",
       "        <th>Item</th>\n",
       "        <th>AccountNo</th>\n",
       "        <th>Name</th>\n",
       "        <th>Address</th>\n",
       "        <th>City</th>\n",
       "        <th>State</th>\n",
       "        <th>Zip</th>\n",
       "        <th>RouteNo</th>\n",
       "        <th>First_date</th>\n",
       "        <th>Last_date</th>\n",
       "        <th>Total_garment</th>\n",
       "        <th>Total_ytd</th>\n",
       "        <th>Total_last</th>\n",
       "        <th>Credit</th>\n",
       "        <th>Total_cred</th>\n",
       "        <th>Wcredit</th>\n",
       "        <th>Total_wcre</th>\n",
       "        <th>Account</th>\n",
       "        <th>Account_balance</th>\n",
       "        <th>Account_30</th>\n",
       "        <th>Account_60</th>\n",
       "        <th>Account_90</th>\n",
       "        <th>Last_paid_date</th>\n",
       "        <th>Last_payment</th>\n",
       "        <th>Pricegroup</th>\n",
       "        <th>Phone</th>\n",
       "        <th>TotalLauYtd</th>\n",
       "        <th>TotalLauLY</th>\n",
       "        <th>TotalLauPcs</th>\n",
       "        <th>TotalOtherYtd</th>\n",
       "        <th>TotalOtherLY</th>\n",
       "        <th>TotalOtherPcs</th>\n",
       "    </tr>\n",
       "    <tr>\n",
       "        <td>1</td>\n",
       "        <td>26279</td>\n",
       "        <td>2561464</td>\n",
       "        <td>Tappert, Judy</td>\n",
       "        <td>50 Brookband Rd</td>\n",
       "        <td>Fairfield</td>\n",
       "        <td>CT</td>\n",
       "        <td>6824</td>\n",
       "        <td>None</td>\n",
       "        <td>1/1/2008</td>\n",
       "        <td>7/24/2019</td>\n",
       "        <td>0</td>\n",
       "        <td>0.0</td>\n",
       "        <td>30.51</td>\n",
       "        <td>0.0</td>\n",
       "        <td>0.0</td>\n",
       "        <td>0.0</td>\n",
       "        <td>0.0</td>\n",
       "        <td>None</td>\n",
       "        <td>0.0</td>\n",
       "        <td>0.0</td>\n",
       "        <td>0.0</td>\n",
       "        <td>0.0</td>\n",
       "        <td>None</td>\n",
       "        <td>None</td>\n",
       "        <td>30</td>\n",
       "        <td>256-1464</td>\n",
       "        <td>0.0</td>\n",
       "        <td>0.0</td>\n",
       "        <td>0</td>\n",
       "        <td>0.0</td>\n",
       "        <td>0.0</td>\n",
       "        <td>0</td>\n",
       "    </tr>\n",
       "    <tr>\n",
       "        <td>2</td>\n",
       "        <td>683</td>\n",
       "        <td>3271348</td>\n",
       "        <td>Wardaki, Karim</td>\n",
       "        <td>24 Henry Street</td>\n",
       "        <td>Darien</td>\n",
       "        <td>CT</td>\n",
       "        <td>6820</td>\n",
       "        <td>None</td>\n",
       "        <td>1/10/1998</td>\n",
       "        <td>4/15/2018</td>\n",
       "        <td>0</td>\n",
       "        <td>0.0</td>\n",
       "        <td>0.0</td>\n",
       "        <td>0.0</td>\n",
       "        <td>0.0</td>\n",
       "        <td>0.0</td>\n",
       "        <td>0.0</td>\n",
       "        <td>0</td>\n",
       "        <td>0.0</td>\n",
       "        <td>0.0</td>\n",
       "        <td>0.0</td>\n",
       "        <td>0.0</td>\n",
       "        <td>None</td>\n",
       "        <td>0.0</td>\n",
       "        <td>1</td>\n",
       "        <td>327-1348</td>\n",
       "        <td>0.0</td>\n",
       "        <td>0.0</td>\n",
       "        <td>0</td>\n",
       "        <td>0.0</td>\n",
       "        <td>0.0</td>\n",
       "        <td>0</td>\n",
       "    </tr>\n",
       "    <tr>\n",
       "        <td>3</td>\n",
       "        <td>902</td>\n",
       "        <td>3482244</td>\n",
       "        <td>HOYT, I</td>\n",
       "        <td>89 J</td>\n",
       "        <td>None</td>\n",
       "        <td>None</td>\n",
       "        <td>None</td>\n",
       "        <td>None</td>\n",
       "        <td>1/10/2001</td>\n",
       "        <td>5/3/2019</td>\n",
       "        <td>0</td>\n",
       "        <td>0.0</td>\n",
       "        <td>23.73</td>\n",
       "        <td>0.0</td>\n",
       "        <td>0.0</td>\n",
       "        <td>0.0</td>\n",
       "        <td>0.0</td>\n",
       "        <td>0</td>\n",
       "        <td>0.0</td>\n",
       "        <td>0.0</td>\n",
       "        <td>0.0</td>\n",
       "        <td>0.0</td>\n",
       "        <td>None</td>\n",
       "        <td>0.0</td>\n",
       "        <td>1</td>\n",
       "        <td>348-2244</td>\n",
       "        <td>0.0</td>\n",
       "        <td>0.0</td>\n",
       "        <td>0</td>\n",
       "        <td>0.0</td>\n",
       "        <td>0.0</td>\n",
       "        <td>0</td>\n",
       "    </tr>\n",
       "    <tr>\n",
       "        <td>4</td>\n",
       "        <td>12987</td>\n",
       "        <td>2548473</td>\n",
       "        <td>Taikowski, Richard</td>\n",
       "        <td>360 GALLOPING HILL RD.</td>\n",
       "        <td>Fairfield</td>\n",
       "        <td>CT</td>\n",
       "        <td>6824</td>\n",
       "        <td>None</td>\n",
       "        <td>1/10/2002</td>\n",
       "        <td>3/3/2015</td>\n",
       "        <td>0</td>\n",
       "        <td>0.0</td>\n",
       "        <td>0.0</td>\n",
       "        <td>0.0</td>\n",
       "        <td>0.0</td>\n",
       "        <td>0.0</td>\n",
       "        <td>0.0</td>\n",
       "        <td>0</td>\n",
       "        <td>0.0</td>\n",
       "        <td>0.0</td>\n",
       "        <td>0.0</td>\n",
       "        <td>0.0</td>\n",
       "        <td>None</td>\n",
       "        <td>None</td>\n",
       "        <td>1</td>\n",
       "        <td>218-0301</td>\n",
       "        <td>0.0</td>\n",
       "        <td>0.0</td>\n",
       "        <td>0</td>\n",
       "        <td>0.0</td>\n",
       "        <td>0.0</td>\n",
       "        <td>0</td>\n",
       "    </tr>\n",
       "    <tr>\n",
       "        <td>5</td>\n",
       "        <td>12978</td>\n",
       "        <td>2548240</td>\n",
       "        <td>Toner, Angela</td>\n",
       "        <td>107 Buckboard Lane</td>\n",
       "        <td>Fairfield</td>\n",
       "        <td>CT</td>\n",
       "        <td>6824</td>\n",
       "        <td>None</td>\n",
       "        <td>1/10/2002</td>\n",
       "        <td>1/13/2016</td>\n",
       "        <td>0</td>\n",
       "        <td>0.0</td>\n",
       "        <td>0.0</td>\n",
       "        <td>0.0</td>\n",
       "        <td>0.0</td>\n",
       "        <td>0.0</td>\n",
       "        <td>0.0</td>\n",
       "        <td>1</td>\n",
       "        <td>0.0</td>\n",
       "        <td>0.0</td>\n",
       "        <td>0.0</td>\n",
       "        <td>0.0</td>\n",
       "        <td>2/12/2016</td>\n",
       "        <td>9.65</td>\n",
       "        <td>1</td>\n",
       "        <td>254-8240</td>\n",
       "        <td>0.0</td>\n",
       "        <td>0.0</td>\n",
       "        <td>0</td>\n",
       "        <td>0.0</td>\n",
       "        <td>0.0</td>\n",
       "        <td>0</td>\n",
       "    </tr>\n",
       "</table>"
      ],
      "text/plain": [
       "[(1, 26279, 2561464, 'Tappert, Judy', '50 Brookband Rd', 'Fairfield', 'CT', 6824, None, '1/1/2008', '7/24/2019', 0, 0.0, 30.51, 0.0, 0.0, 0.0, 0.0, None, 0.0, 0.0, 0.0, 0.0, None, None, 30, '256-1464', 0.0, 0.0, 0, 0.0, 0.0, 0),\n",
       " (2, 683, 3271348, 'Wardaki, Karim', '24 Henry Street', 'Darien', 'CT', 6820, None, '1/10/1998', '4/15/2018', 0, 0.0, 0.0, 0.0, 0.0, 0.0, 0.0, 0, 0.0, 0.0, 0.0, 0.0, None, 0.0, 1, '327-1348', 0.0, 0.0, 0, 0.0, 0.0, 0),\n",
       " (3, 902, 3482244, 'HOYT, I', '89 J', None, None, None, None, '1/10/2001', '5/3/2019', 0, 0.0, 23.73, 0.0, 0.0, 0.0, 0.0, 0, 0.0, 0.0, 0.0, 0.0, None, 0.0, 1, '348-2244', 0.0, 0.0, 0, 0.0, 0.0, 0),\n",
       " (4, 12987, 2548473, 'Taikowski, Richard', '360 GALLOPING HILL RD.', 'Fairfield', 'CT', 6824, None, '1/10/2002', '3/3/2015', 0, 0.0, 0.0, 0.0, 0.0, 0.0, 0.0, 0, 0.0, 0.0, 0.0, 0.0, None, None, 1, '218-0301', 0.0, 0.0, 0, 0.0, 0.0, 0),\n",
       " (5, 12978, 2548240, 'Toner, Angela', '107 Buckboard Lane', 'Fairfield', 'CT', 6824, None, '1/10/2002', '1/13/2016', 0, 0.0, 0.0, 0.0, 0.0, 0.0, 0.0, 1, 0.0, 0.0, 0.0, 0.0, '2/12/2016', 9.65, 1, '254-8240', 0.0, 0.0, 0, 0.0, 0.0, 0)]"
      ]
     },
     "execution_count": 20,
     "metadata": {},
     "output_type": "execute_result"
    }
   ],
   "source": [
    "%%sql\n",
    "DELETE FROM CUSTOMER;\n",
    "INSERT INTO CUSTOMER(Item,AccountNo,Name,Address,City,State,Zip,RouteNo,First_date,Last_date,Total_garment,Total_ytd,Total_last,Credit,Total_cred,Wcredit,Total_wcre,Account,Account_balance,Account_30,Account_60,Account_90,Last_paid_date,Last_payment,Pricegroup,Phone,TotalLauYtd,TotalLauLY,TotalLauPcs,TotalOtherYtd,TotalOtherLY,TotalOtherPcs)\n",
    "    SELECT DISTINCT Item,AccountNo,Name,Address,City,State,Zip,RouteNo,First_date,Last_date,Total_garment,Total_ytd,Total_last,Credit,Total_cred,Wcredit,Total_wcre,Account,Account_balance,Account_30,Account_60,Account_90,Last_paid_date,Last_payment,Pricegroup,Phone,TotalLauYtd,TotalLauLY,TotalLauPcs,TotalOtherYtd,TotalOtherLY,TotalOtherPcs\n",
    "    FROM Import_Customer\n",
    "    ORDER BY First_date;\n",
    "SELECT * FROM CUSTOMER LIMIT 5;"
   ]
  },
  {
   "cell_type": "code",
   "execution_count": 21,
   "metadata": {},
   "outputs": [
    {
     "name": "stdout",
     "output_type": "stream",
     "text": [
      " * sqlite:///FabricareData.db\n",
      "0 rows affected.\n",
      "24 rows affected.\n",
      "Done.\n"
     ]
    },
    {
     "data": {
      "text/html": [
       "<table>\n",
       "    <tr>\n",
       "        <th>Route_id</th>\n",
       "        <th>Item</th>\n",
       "        <th>RouteNo</th>\n",
       "        <th>RouteName</th>\n",
       "        <th>Rmon</th>\n",
       "        <th>Rtue</th>\n",
       "        <th>Rwed</th>\n",
       "        <th>Rthu</th>\n",
       "        <th>Rfri</th>\n",
       "        <th>Rsat</th>\n",
       "        <th>Rsun</th>\n",
       "        <th>PriceGroup</th>\n",
       "    </tr>\n",
       "    <tr>\n",
       "        <td>1</td>\n",
       "        <td>20</td>\n",
       "        <td>2</td>\n",
       "        <td>Darien</td>\n",
       "        <td>1</td>\n",
       "        <td>0</td>\n",
       "        <td>0</td>\n",
       "        <td>1</td>\n",
       "        <td>0</td>\n",
       "        <td>0</td>\n",
       "        <td>0</td>\n",
       "        <td>2</td>\n",
       "    </tr>\n",
       "    <tr>\n",
       "        <td>2</td>\n",
       "        <td>17</td>\n",
       "        <td>27</td>\n",
       "        <td>Southport Tue/Fri</td>\n",
       "        <td>0</td>\n",
       "        <td>1</td>\n",
       "        <td>0</td>\n",
       "        <td>0</td>\n",
       "        <td>1</td>\n",
       "        <td>0</td>\n",
       "        <td>0</td>\n",
       "        <td>27</td>\n",
       "    </tr>\n",
       "    <tr>\n",
       "        <td>3</td>\n",
       "        <td>22</td>\n",
       "        <td>3</td>\n",
       "        <td>Darien- Tuesday, Friday</td>\n",
       "        <td>0</td>\n",
       "        <td>1</td>\n",
       "        <td>0</td>\n",
       "        <td>0</td>\n",
       "        <td>1</td>\n",
       "        <td>0</td>\n",
       "        <td>0</td>\n",
       "        <td>3</td>\n",
       "    </tr>\n",
       "    <tr>\n",
       "        <td>4</td>\n",
       "        <td>8</td>\n",
       "        <td>30</td>\n",
       "        <td>Fairfield-Monday/Thursday</td>\n",
       "        <td>1</td>\n",
       "        <td>0</td>\n",
       "        <td>0</td>\n",
       "        <td>1</td>\n",
       "        <td>0</td>\n",
       "        <td>0</td>\n",
       "        <td>0</td>\n",
       "        <td>30</td>\n",
       "    </tr>\n",
       "    <tr>\n",
       "        <td>5</td>\n",
       "        <td>9</td>\n",
       "        <td>31</td>\n",
       "        <td>Westport-Tuesday/Friday</td>\n",
       "        <td>0</td>\n",
       "        <td>1</td>\n",
       "        <td>0</td>\n",
       "        <td>0</td>\n",
       "        <td>1</td>\n",
       "        <td>0</td>\n",
       "        <td>0</td>\n",
       "        <td>31</td>\n",
       "    </tr>\n",
       "</table>"
      ],
      "text/plain": [
       "[(1, 20, '2', 'Darien', 1, 0, 0, 1, 0, 0, 0, 2),\n",
       " (2, 17, '27', 'Southport Tue/Fri', 0, 1, 0, 0, 1, 0, 0, 27),\n",
       " (3, 22, '3', 'Darien- Tuesday, Friday', 0, 1, 0, 0, 1, 0, 0, 3),\n",
       " (4, 8, '30', 'Fairfield-Monday/Thursday', 1, 0, 0, 1, 0, 0, 0, 30),\n",
       " (5, 9, '31', 'Westport-Tuesday/Friday', 0, 1, 0, 0, 1, 0, 0, 31)]"
      ]
     },
     "execution_count": 21,
     "metadata": {},
     "output_type": "execute_result"
    }
   ],
   "source": [
    "%%sql\n",
    "DELETE FROM ROUTE;\n",
    "INSERT INTO ROUTE(Item,RouteNo,RouteName,Rmon,Rtue,Rwed,Rthu,Rfri,Rsat,Rsun,PriceGroup)\n",
    "    SELECT DISTINCT Item,RouteNo,RouteName,Rmon,Rtue,Rwed,Rthu,Rfri,Rsat,Rsun,PriceGroup\n",
    "    FROM Import_Route\n",
    "    ORDER BY RouteNo;\n",
    "SELECT * FROM ROUTE LIMIT 5;"
   ]
  },
  {
   "cell_type": "code",
   "execution_count": 24,
   "metadata": {},
   "outputs": [
    {
     "name": "stdout",
     "output_type": "stream",
     "text": [
      " * sqlite:///FabricareData.db\n",
      "0 rows affected.\n",
      "433566 rows affected.\n",
      "Done.\n"
     ]
    },
    {
     "data": {
      "text/html": [
       "<table>\n",
       "    <tr>\n",
       "        <th>RoutePicked_id</th>\n",
       "        <th>Item</th>\n",
       "        <th>AccountNo</th>\n",
       "        <th>Picked</th>\n",
       "        <th>PickDate</th>\n",
       "        <th>PickTime</th>\n",
       "        <th>PickEmp</th>\n",
       "        <th>PickEmpNo</th>\n",
       "        <th>StopNo</th>\n",
       "        <th>RouteNo</th>\n",
       "    </tr>\n",
       "    <tr>\n",
       "        <td>1</td>\n",
       "        <td>177</td>\n",
       "        <td>1001666</td>\n",
       "        <td>0</td>\n",
       "        <td>1/10/2017</td>\n",
       "        <td>11:04:34 AM</td>\n",
       "        <td>Mark</td>\n",
       "        <td>937</td>\n",
       "        <td>123</td>\n",
       "        <td>5</td>\n",
       "    </tr>\n",
       "    <tr>\n",
       "        <td>2</td>\n",
       "        <td>626</td>\n",
       "        <td>1002340</td>\n",
       "        <td>0</td>\n",
       "        <td>1/10/2017</td>\n",
       "        <td>10:48:35 AM</td>\n",
       "        <td>Mark</td>\n",
       "        <td>937</td>\n",
       "        <td>109</td>\n",
       "        <td>5</td>\n",
       "    </tr>\n",
       "    <tr>\n",
       "        <td>3</td>\n",
       "        <td>1922</td>\n",
       "        <td>1003925</td>\n",
       "        <td>1</td>\n",
       "        <td>1/10/2017</td>\n",
       "        <td>8:33:58 AM</td>\n",
       "        <td>Mark</td>\n",
       "        <td>937</td>\n",
       "        <td>141</td>\n",
       "        <td>3</td>\n",
       "    </tr>\n",
       "    <tr>\n",
       "        <td>4</td>\n",
       "        <td>3048</td>\n",
       "        <td>1012764</td>\n",
       "        <td>1</td>\n",
       "        <td>1/10/2017</td>\n",
       "        <td>2:57:14 PM</td>\n",
       "        <td>Christopher</td>\n",
       "        <td>727</td>\n",
       "        <td>206</td>\n",
       "        <td>35</td>\n",
       "    </tr>\n",
       "    <tr>\n",
       "        <td>5</td>\n",
       "        <td>3609</td>\n",
       "        <td>1013891</td>\n",
       "        <td>1</td>\n",
       "        <td>1/10/2017</td>\n",
       "        <td>8:29:40 AM</td>\n",
       "        <td>Christopher</td>\n",
       "        <td>727</td>\n",
       "        <td>108</td>\n",
       "        <td>35</td>\n",
       "    </tr>\n",
       "</table>"
      ],
      "text/plain": [
       "[(1, 177, 1001666, 0, '1/10/2017', '11:04:34 AM', 'Mark', 937, 123, '5'),\n",
       " (2, 626, 1002340, 0, '1/10/2017', '10:48:35 AM', 'Mark', 937, 109, '5'),\n",
       " (3, 1922, 1003925, 1, '1/10/2017', '8:33:58 AM', 'Mark', 937, 141, '3'),\n",
       " (4, 3048, 1012764, 1, '1/10/2017', '2:57:14 PM', 'Christopher', 727, 206, '35'),\n",
       " (5, 3609, 1013891, 1, '1/10/2017', '8:29:40 AM', 'Christopher', 727, 108, '35')]"
      ]
     },
     "execution_count": 24,
     "metadata": {},
     "output_type": "execute_result"
    }
   ],
   "source": [
    "%%sql\n",
    "DELETE FROM ROUTE_PICKED;\n",
    "INSERT INTO ROUTE_PICKED(Item,AccountNo,Picked,PickDate,PickTime,PickEmp,PickEmpNo,StopNo,RouteNo)\n",
    "    SELECT DISTINCT Item,AccountNo,Picked,PickDate,PickTime,PickEmp,PickEmpNo,StopNo,RouteNo\n",
    "    FROM Import_RoutePicked\n",
    "    ORDER BY PickDate;\n",
    "SELECT * FROM ROUTE_PICKED LIMIT 5;"
   ]
  },
  {
   "cell_type": "markdown",
   "metadata": {},
   "source": [
    "## Step 5: Clear and Regain Storage"
   ]
  },
  {
   "cell_type": "code",
   "execution_count": null,
   "metadata": {},
   "outputs": [],
   "source": [
    "%%sql\n",
    "DELETE FROM IMPORT_CATALOG_COURSES;\n",
    "DELETE FROM IMPORT_COURSE_OFFERINGS;\n",
    "DELETE FROM IMPORT_COURSE_MEETINGS;"
   ]
  },
  {
   "cell_type": "code",
   "execution_count": null,
   "metadata": {},
   "outputs": [],
   "source": [
    "%%sql\n",
    "DROP TABLE IMPORT_CATALOG_COURSES;\n",
    "DROP TABLE IMPORT_COURSE_OFFERINGS;\n",
    "DROP TABLE IMPORT_COURSE_MEETINGS;"
   ]
  },
  {
   "cell_type": "code",
   "execution_count": null,
   "metadata": {},
   "outputs": [],
   "source": [
    "%%sql\n",
    "vacuum;"
   ]
  },
  {
   "cell_type": "code",
   "execution_count": null,
   "metadata": {},
   "outputs": [],
   "source": []
  }
 ],
 "metadata": {
  "kernelspec": {
   "display_name": "Python 3",
   "language": "python",
   "name": "python3"
  },
  "language_info": {
   "codemirror_mode": {
    "name": "ipython",
    "version": 3
   },
   "file_extension": ".py",
   "mimetype": "text/x-python",
   "name": "python",
   "nbconvert_exporter": "python",
   "pygments_lexer": "ipython3",
   "version": "3.6.7"
  }
 },
 "nbformat": 4,
 "nbformat_minor": 4
}
